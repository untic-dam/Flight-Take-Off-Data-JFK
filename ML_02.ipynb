{
 "cells": [
  {
   "cell_type": "markdown",
   "metadata": {
    "heading_collapsed": true
   },
   "source": [
    "# Import Libraries"
   ]
  },
  {
   "cell_type": "code",
   "execution_count": 1,
   "metadata": {
    "hidden": true
   },
   "outputs": [],
   "source": [
    "import pandas as pd\n",
    "import numpy as np\n",
    "import matplotlib.pyplot as plt\n",
    "import seaborn as sns"
   ]
  },
  {
   "cell_type": "code",
   "execution_count": 2,
   "metadata": {
    "hidden": true
   },
   "outputs": [],
   "source": [
    "pd.set_option('display.max_columns', None)"
   ]
  },
  {
   "cell_type": "markdown",
   "metadata": {
    "heading_collapsed": true
   },
   "source": [
    "# Load Data"
   ]
  },
  {
   "cell_type": "code",
   "execution_count": 3,
   "metadata": {
    "hidden": true
   },
   "outputs": [],
   "source": [
    "df = pd.read_csv('data/M1_final.csv')\n",
    "df_0 = df.copy()"
   ]
  },
  {
   "cell_type": "markdown",
   "metadata": {
    "heading_collapsed": true
   },
   "source": [
    "# Clean Dataset"
   ]
  },
  {
   "cell_type": "markdown",
   "metadata": {
    "hidden": true
   },
   "source": [
    "## Drop NaN"
   ]
  },
  {
   "cell_type": "code",
   "execution_count": 4,
   "metadata": {
    "hidden": true
   },
   "outputs": [
    {
     "name": "stdout",
     "output_type": "stream",
     "text": [
      "(28820, 23)\n",
      "(28818, 23)\n"
     ]
    }
   ],
   "source": [
    "print(df.shape)\n",
    "df = df.dropna(axis=0)\n",
    "print(df.shape)"
   ]
  },
  {
   "cell_type": "markdown",
   "metadata": {
    "hidden": true
   },
   "source": [
    "## Numerical cols"
   ]
  },
  {
   "cell_type": "code",
   "execution_count": 5,
   "metadata": {
    "hidden": true
   },
   "outputs": [
    {
     "data": {
      "text/plain": [
       "(28818, 17)"
      ]
     },
     "execution_count": 5,
     "metadata": {},
     "output_type": "execute_result"
    }
   ],
   "source": [
    "df_num = df.loc[:, df.dtypes != np.object]\n",
    "df_num.shape"
   ]
  },
  {
   "cell_type": "markdown",
   "metadata": {
    "hidden": true
   },
   "source": [
    "## Categorical cols"
   ]
  },
  {
   "cell_type": "code",
   "execution_count": 6,
   "metadata": {
    "hidden": true
   },
   "outputs": [
    {
     "data": {
      "text/plain": [
       "(28818, 6)"
      ]
     },
     "execution_count": 6,
     "metadata": {},
     "output_type": "execute_result"
    }
   ],
   "source": [
    "df_cat = df.loc[:, df.dtypes == np.object]\n",
    "df_cat.shape"
   ]
  },
  {
   "cell_type": "markdown",
   "metadata": {},
   "source": [
    "# Data Exploration"
   ]
  },
  {
   "cell_type": "markdown",
   "metadata": {},
   "source": [
    "## Num cols"
   ]
  },
  {
   "cell_type": "code",
   "execution_count": 7,
   "metadata": {},
   "outputs": [
    {
     "data": {
      "text/html": [
       "<div>\n",
       "<style scoped>\n",
       "    .dataframe tbody tr th:only-of-type {\n",
       "        vertical-align: middle;\n",
       "    }\n",
       "\n",
       "    .dataframe tbody tr th {\n",
       "        vertical-align: top;\n",
       "    }\n",
       "\n",
       "    .dataframe thead th {\n",
       "        text-align: right;\n",
       "    }\n",
       "</style>\n",
       "<table border=\"1\" class=\"dataframe\">\n",
       "  <thead>\n",
       "    <tr style=\"text-align: right;\">\n",
       "      <th></th>\n",
       "      <th>MONTH</th>\n",
       "      <th>DAY_OF_MONTH</th>\n",
       "      <th>DAY_OF_WEEK</th>\n",
       "      <th>DEP_DELAY</th>\n",
       "      <th>CRS_ELAPSED_TIME</th>\n",
       "      <th>DISTANCE</th>\n",
       "      <th>CRS_DEP_M</th>\n",
       "      <th>DEP_TIME_M</th>\n",
       "      <th>CRS_ARR_M</th>\n",
       "      <th>Temperature</th>\n",
       "      <th>Humidity</th>\n",
       "      <th>Wind Speed</th>\n",
       "      <th>Wind Gust</th>\n",
       "      <th>Pressure</th>\n",
       "      <th>sch_dep</th>\n",
       "      <th>sch_arr</th>\n",
       "      <th>TAXI_OUT</th>\n",
       "    </tr>\n",
       "  </thead>\n",
       "  <tbody>\n",
       "    <tr>\n",
       "      <th>0</th>\n",
       "      <td>11</td>\n",
       "      <td>1</td>\n",
       "      <td>5</td>\n",
       "      <td>-1</td>\n",
       "      <td>124</td>\n",
       "      <td>636</td>\n",
       "      <td>324</td>\n",
       "      <td>323</td>\n",
       "      <td>448</td>\n",
       "      <td>48</td>\n",
       "      <td>58</td>\n",
       "      <td>25</td>\n",
       "      <td>38</td>\n",
       "      <td>29.86</td>\n",
       "      <td>9</td>\n",
       "      <td>17</td>\n",
       "      <td>14</td>\n",
       "    </tr>\n",
       "    <tr>\n",
       "      <th>1</th>\n",
       "      <td>11</td>\n",
       "      <td>1</td>\n",
       "      <td>5</td>\n",
       "      <td>-7</td>\n",
       "      <td>371</td>\n",
       "      <td>2475</td>\n",
       "      <td>340</td>\n",
       "      <td>333</td>\n",
       "      <td>531</td>\n",
       "      <td>48</td>\n",
       "      <td>58</td>\n",
       "      <td>25</td>\n",
       "      <td>38</td>\n",
       "      <td>29.86</td>\n",
       "      <td>9</td>\n",
       "      <td>17</td>\n",
       "      <td>15</td>\n",
       "    </tr>\n",
       "    <tr>\n",
       "      <th>2</th>\n",
       "      <td>11</td>\n",
       "      <td>1</td>\n",
       "      <td>5</td>\n",
       "      <td>40</td>\n",
       "      <td>181</td>\n",
       "      <td>1069</td>\n",
       "      <td>301</td>\n",
       "      <td>341</td>\n",
       "      <td>482</td>\n",
       "      <td>48</td>\n",
       "      <td>58</td>\n",
       "      <td>25</td>\n",
       "      <td>38</td>\n",
       "      <td>29.86</td>\n",
       "      <td>9</td>\n",
       "      <td>17</td>\n",
       "      <td>22</td>\n",
       "    </tr>\n",
       "    <tr>\n",
       "      <th>3</th>\n",
       "      <td>11</td>\n",
       "      <td>1</td>\n",
       "      <td>5</td>\n",
       "      <td>-2</td>\n",
       "      <td>168</td>\n",
       "      <td>944</td>\n",
       "      <td>345</td>\n",
       "      <td>343</td>\n",
       "      <td>513</td>\n",
       "      <td>48</td>\n",
       "      <td>58</td>\n",
       "      <td>25</td>\n",
       "      <td>38</td>\n",
       "      <td>29.86</td>\n",
       "      <td>9</td>\n",
       "      <td>17</td>\n",
       "      <td>12</td>\n",
       "    </tr>\n",
       "    <tr>\n",
       "      <th>4</th>\n",
       "      <td>11</td>\n",
       "      <td>1</td>\n",
       "      <td>5</td>\n",
       "      <td>-4</td>\n",
       "      <td>139</td>\n",
       "      <td>760</td>\n",
       "      <td>360</td>\n",
       "      <td>356</td>\n",
       "      <td>499</td>\n",
       "      <td>46</td>\n",
       "      <td>58</td>\n",
       "      <td>24</td>\n",
       "      <td>35</td>\n",
       "      <td>29.91</td>\n",
       "      <td>9</td>\n",
       "      <td>17</td>\n",
       "      <td>13</td>\n",
       "    </tr>\n",
       "  </tbody>\n",
       "</table>\n",
       "</div>"
      ],
      "text/plain": [
       "   MONTH  DAY_OF_MONTH  DAY_OF_WEEK  DEP_DELAY  CRS_ELAPSED_TIME  DISTANCE  \\\n",
       "0     11             1            5         -1               124       636   \n",
       "1     11             1            5         -7               371      2475   \n",
       "2     11             1            5         40               181      1069   \n",
       "3     11             1            5         -2               168       944   \n",
       "4     11             1            5         -4               139       760   \n",
       "\n",
       "   CRS_DEP_M  DEP_TIME_M  CRS_ARR_M  Temperature  Humidity  Wind Speed  \\\n",
       "0        324         323        448           48        58          25   \n",
       "1        340         333        531           48        58          25   \n",
       "2        301         341        482           48        58          25   \n",
       "3        345         343        513           48        58          25   \n",
       "4        360         356        499           46        58          24   \n",
       "\n",
       "   Wind Gust  Pressure  sch_dep  sch_arr  TAXI_OUT  \n",
       "0         38     29.86        9       17        14  \n",
       "1         38     29.86        9       17        15  \n",
       "2         38     29.86        9       17        22  \n",
       "3         38     29.86        9       17        12  \n",
       "4         35     29.91        9       17        13  "
      ]
     },
     "execution_count": 7,
     "metadata": {},
     "output_type": "execute_result"
    }
   ],
   "source": [
    "df_num.head()"
   ]
  },
  {
   "cell_type": "code",
   "execution_count": 11,
   "metadata": {
    "scrolled": true
   },
   "outputs": [
    {
     "data": {
      "image/png": "[encoded data removed]",
      "text/plain": [
       "<Figure size 432x288 with 1 Axes>"
      ]
     },
     "metadata": {
      "needs_background": "light"
     },
     "output_type": "display_data"
    },
    {
     "data": {
      "image/png": "[encoded data removed]",
      "text/plain": [
       "<Figure size 432x288 with 1 Axes>"
      ]
     },
     "metadata": {
      "needs_background": "light"
     },
     "output_type": "display_data"
    },
    {
     "data": {
      "image/png": "[encoded data removed]",
      "text/plain": [
       "<Figure size 432x288 with 1 Axes>"
      ]
     },
     "metadata": {
      "needs_background": "light"
     },
     "output_type": "display_data"
    },
    {
     "data": {
      "image/png": "[encoded data removed]",
      "text/plain": [
       "<Figure size 432x288 with 1 Axes>"
      ]
     },
     "metadata": {
      "needs_background": "light"
     },
     "output_type": "display_data"
    },
    {
     "data": {
      "image/png": "[encoded data removed]",
      "text/plain": [
       "<Figure size 432x288 with 1 Axes>"
      ]
     },
     "metadata": {
      "needs_background": "light"
     },
     "output_type": "display_data"
    },
    {
     "data": {
      "image/png": "[encoded data removed]",
      "text/plain": [
       "<Figure size 432x288 with 1 Axes>"
      ]
     },
     "metadata": {
      "needs_background": "light"
     },
     "output_type": "display_data"
    },
    {
     "data": {
      "image/png": "[encoded data removed]",
      "text/plain": [
       "<Figure size 432x288 with 1 Axes>"
      ]
     },
     "metadata": {
      "needs_background": "light"
     },
     "output_type": "display_data"
    },
    {
     "data": {
      "image/png": "[encoded data removed]",
      "text/plain": [
       "<Figure size 432x288 with 1 Axes>"
      ]
     },
     "metadata": {
      "needs_background": "light"
     },
     "output_type": "display_data"
    },
    {
     "data": {
      "image/png": "[encoded data removed]",
      "text/plain": [
       "<Figure size 432x288 with 1 Axes>"
      ]
     },
     "metadata": {
      "needs_background": "light"
     },
     "output_type": "display_data"
    },
    {
     "data": {
      "image/png": "[encoded data removed]",
      "text/plain": [
       "<Figure size 432x288 with 1 Axes>"
      ]
     },
     "metadata": {
      "needs_background": "light"
     },
     "output_type": "display_data"
    },
    {
     "data": {
      "image/png": "[encoded data removed]",
      "text/plain": [
       "<Figure size 432x288 with 1 Axes>"
      ]
     },
     "metadata": {
      "needs_background": "light"
     },
     "output_type": "display_data"
    },
    {
     "data": {
      "image/png": "[encoded data removed]",
      "text/plain": [
       "<Figure size 432x288 with 1 Axes>"
      ]
     },
     "metadata": {
      "needs_background": "light"
     },
     "output_type": "display_data"
    },
    {
     "data": {
      "image/png": "[encoded data removed]",
      "text/plain": [
       "<Figure size 432x288 with 1 Axes>"
      ]
     },
     "metadata": {
      "needs_background": "light"
     },
     "output_type": "display_data"
    },
    {
     "data": {
      "image/png": "[encoded data removed]",
      "text/plain": [
       "<Figure size 432x288 with 1 Axes>"
      ]
     },
     "metadata": {
      "needs_background": "light"
     },
     "output_type": "display_data"
    },
    {
     "data": {
      "image/png": "[encoded data removed]",
      "text/plain": [
       "<Figure size 432x288 with 1 Axes>"
      ]
     },
     "metadata": {
      "needs_background": "light"
     },
     "output_type": "display_data"
    },
    {
     "data": {
      "image/png": "[encoded data removed]",
      "text/plain": [
       "<Figure size 432x288 with 1 Axes>"
      ]
     },
     "metadata": {
      "needs_background": "light"
     },
     "output_type": "display_data"
    },
    {
     "data": {
      "image/png": "[encoded data removed]",
      "text/plain": [
       "<Figure size 432x288 with 1 Axes>"
      ]
     },
     "metadata": {
      "needs_background": "light"
     },
     "output_type": "display_data"
    }
   ],
   "source": [
    "for i in df_num:\n",
    "    plt.figure()\n",
    "    plt.hist(df_num[i])\n",
    "    plt.title(i)\n",
    "    plt.show();\n"
   ]
  },
  {
   "cell_type": "code",
   "execution_count": 12,
   "metadata": {},
   "outputs": [
    {
     "data": {
      "text/plain": [
       "array([11, 12,  1])"
      ]
     },
     "execution_count": 12,
     "metadata": {},
     "output_type": "execute_result"
    }
   ],
   "source": [
    "df_num['MONTH'].unique()"
   ]
  },
  {
   "cell_type": "code",
   "execution_count": 13,
   "metadata": {},
   "outputs": [
    {
     "data": {
      "text/plain": [
       "count    28818.000000\n",
       "mean         6.373239\n",
       "std         38.735195\n",
       "min        -22.000000\n",
       "25%         -6.000000\n",
       "50%         -3.000000\n",
       "75%          2.000000\n",
       "max       1276.000000\n",
       "Name: DEP_DELAY, dtype: float64"
      ]
     },
     "execution_count": 13,
     "metadata": {},
     "output_type": "execute_result"
    }
   ],
   "source": [
    "df_num['DEP_DELAY'].describe()"
   ]
  },
  {
   "cell_type": "code",
   "execution_count": 39,
   "metadata": {},
   "outputs": [
    {
     "data": {
      "text/plain": [
       "<AxesSubplot:>"
      ]
     },
     "execution_count": 39,
     "metadata": {},
     "output_type": "execute_result"
    },
    {
     "data": {
      "image/png": "[encoded data removed]",
      "text/plain": [
       "<Figure size 432x288 with 1 Axes>"
      ]
     },
     "metadata": {
      "needs_background": "light"
     },
     "output_type": "display_data"
    }
   ],
   "source": [
    "df_num['DEP_DELAY'].hist(range=[-22,2])"
   ]
  },
  {
   "cell_type": "code",
   "execution_count": 36,
   "metadata": {
    "scrolled": true
   },
   "outputs": [
    {
     "data": {
      "text/plain": [
       "array([ -22,  -20,  -19,  -18,  -17,  -16,  -15,  -14,  -13,  -12,  -11,\n",
       "        -10,   -9,   -8,   -7,   -6,   -5,   -4,   -3,   -2,   -1,    0,\n",
       "          1,    2,    3,    4,    5,    6,    7,    8,    9,   10,   11,\n",
       "         12,   13,   14,   15,   16,   17,   18,   19,   20,   21,   22,\n",
       "         23,   24,   25,   26,   27,   28,   29,   30,   31,   32,   33,\n",
       "         34,   35,   36,   37,   38,   39,   40,   41,   42,   43,   44,\n",
       "         45,   46,   47,   48,   49,   50,   51,   52,   53,   54,   55,\n",
       "         56,   57,   58,   59,   60,   61,   62,   63,   64,   65,   66,\n",
       "         67,   68,   69,   70,   71,   72,   73,   74,   75,   76,   77,\n",
       "         78,   79,   80,   81,   82,   83,   84,   85,   86,   87,   88,\n",
       "         89,   90,   91,   92,   93,   94,   95,   96,   97,   98,   99,\n",
       "        100,  101,  102,  103,  104,  105,  106,  107,  108,  109,  110,\n",
       "        111,  112,  113,  114,  115,  116,  117,  118,  119,  120,  121,\n",
       "        122,  123,  124,  125,  126,  127,  128,  129,  130,  131,  132,\n",
       "        133,  134,  135,  136,  137,  138,  139,  140,  141,  142,  143,\n",
       "        144,  145,  146,  147,  148,  149,  150,  151,  152,  153,  154,\n",
       "        155,  156,  157,  158,  159,  160,  161,  162,  163,  164,  165,\n",
       "        166,  167,  168,  169,  171,  172,  173,  174,  175,  176,  177,\n",
       "        178,  179,  180,  181,  182,  183,  184,  185,  186,  187,  188,\n",
       "        189,  192,  193,  194,  195,  196,  197,  198,  199,  200,  201,\n",
       "        202,  203,  204,  205,  206,  207,  208,  209,  210,  211,  212,\n",
       "        213,  214,  215,  216,  217,  218,  219,  222,  225,  227,  228,\n",
       "        230,  231,  232,  233,  234,  237,  238,  240,  241,  242,  243,\n",
       "        244,  247,  248,  249,  252,  254,  255,  258,  259,  260,  262,\n",
       "        263,  265,  269,  270,  271,  274,  276,  278,  279,  281,  283,\n",
       "        287,  290,  291,  292,  293,  295,  297,  298,  299,  303,  308,\n",
       "        314,  320,  322,  323,  325,  326,  332,  334,  337,  341,  346,\n",
       "        352,  357,  360,  368,  369,  370,  372,  374,  375,  383,  389,\n",
       "        390,  414,  418,  420,  421,  426,  433,  449,  452,  460,  468,\n",
       "        498,  515,  520,  526,  541,  543,  563,  585,  592,  599,  621,\n",
       "        624,  627,  729,  747,  782,  805,  830, 1048, 1148, 1173, 1199,\n",
       "       1276])"
      ]
     },
     "execution_count": 36,
     "metadata": {},
     "output_type": "execute_result"
    }
   ],
   "source": [
    "np.sort(df_num['DEP_DELAY'].unique())"
   ]
  },
  {
   "cell_type": "code",
   "execution_count": 46,
   "metadata": {},
   "outputs": [
    {
     "data": {
      "text/plain": [
       "<AxesSubplot:>"
      ]
     },
     "execution_count": 46,
     "metadata": {},
     "output_type": "execute_result"
    },
    {
     "data": {
      "image/png": "[encoded data removed]",
      "text/plain": [
       "<Figure size 432x288 with 1 Axes>"
      ]
     },
     "metadata": {
      "needs_background": "light"
     },
     "output_type": "display_data"
    }
   ],
   "source": [
    "df_num['Wind Gust'].hist(range=[17,49])"
   ]
  },
  {
   "cell_type": "code",
   "execution_count": 41,
   "metadata": {},
   "outputs": [
    {
     "data": {
      "text/plain": [
       "count    28818.000000\n",
       "mean         5.535707\n",
       "std         11.886780\n",
       "min          0.000000\n",
       "25%          0.000000\n",
       "50%          0.000000\n",
       "75%          0.000000\n",
       "max         49.000000\n",
       "Name: Wind Gust, dtype: float64"
      ]
     },
     "execution_count": 41,
     "metadata": {},
     "output_type": "execute_result"
    }
   ],
   "source": [
    "df_num['Wind Gust'].describe()"
   ]
  },
  {
   "cell_type": "code",
   "execution_count": 43,
   "metadata": {},
   "outputs": [
    {
     "data": {
      "text/plain": [
       "array([ 0, 17, 18, 20, 21, 22, 23, 24, 25, 26, 28, 29, 30, 31, 32, 33, 35,\n",
       "       36, 37, 38, 39, 40, 41, 44, 45, 46, 47, 49])"
      ]
     },
     "execution_count": 43,
     "metadata": {},
     "output_type": "execute_result"
    }
   ],
   "source": [
    "np.sort(df_num['Wind Gust'].unique())"
   ]
  },
  {
   "cell_type": "markdown",
   "metadata": {},
   "source": [
    "<li> wind gust vs taxi"
   ]
  },
  {
   "cell_type": "code",
   "execution_count": 47,
   "metadata": {},
   "outputs": [
    {
     "data": {
      "text/html": [
       "<div>\n",
       "<style scoped>\n",
       "    .dataframe tbody tr th:only-of-type {\n",
       "        vertical-align: middle;\n",
       "    }\n",
       "\n",
       "    .dataframe tbody tr th {\n",
       "        vertical-align: top;\n",
       "    }\n",
       "\n",
       "    .dataframe thead th {\n",
       "        text-align: right;\n",
       "    }\n",
       "</style>\n",
       "<table border=\"1\" class=\"dataframe\">\n",
       "  <thead>\n",
       "    <tr style=\"text-align: right;\">\n",
       "      <th></th>\n",
       "      <th>MONTH</th>\n",
       "      <th>DAY_OF_MONTH</th>\n",
       "      <th>DAY_OF_WEEK</th>\n",
       "      <th>OP_UNIQUE_CARRIER</th>\n",
       "      <th>TAIL_NUM</th>\n",
       "      <th>DEST</th>\n",
       "      <th>DEP_DELAY</th>\n",
       "      <th>CRS_ELAPSED_TIME</th>\n",
       "      <th>DISTANCE</th>\n",
       "      <th>CRS_DEP_M</th>\n",
       "      <th>DEP_TIME_M</th>\n",
       "      <th>CRS_ARR_M</th>\n",
       "      <th>Temperature</th>\n",
       "      <th>Dew Point</th>\n",
       "      <th>Humidity</th>\n",
       "      <th>Wind</th>\n",
       "      <th>Wind Speed</th>\n",
       "      <th>Wind Gust</th>\n",
       "      <th>Pressure</th>\n",
       "      <th>Condition</th>\n",
       "      <th>sch_dep</th>\n",
       "      <th>sch_arr</th>\n",
       "      <th>TAXI_OUT</th>\n",
       "    </tr>\n",
       "  </thead>\n",
       "  <tbody>\n",
       "    <tr>\n",
       "      <th>0</th>\n",
       "      <td>11</td>\n",
       "      <td>1</td>\n",
       "      <td>5</td>\n",
       "      <td>B6</td>\n",
       "      <td>N828JB</td>\n",
       "      <td>CHS</td>\n",
       "      <td>-1</td>\n",
       "      <td>124</td>\n",
       "      <td>636</td>\n",
       "      <td>324</td>\n",
       "      <td>323</td>\n",
       "      <td>448</td>\n",
       "      <td>48</td>\n",
       "      <td>34</td>\n",
       "      <td>58</td>\n",
       "      <td>W</td>\n",
       "      <td>25</td>\n",
       "      <td>38</td>\n",
       "      <td>29.86</td>\n",
       "      <td>Fair / Windy</td>\n",
       "      <td>9</td>\n",
       "      <td>17</td>\n",
       "      <td>14</td>\n",
       "    </tr>\n",
       "    <tr>\n",
       "      <th>1</th>\n",
       "      <td>11</td>\n",
       "      <td>1</td>\n",
       "      <td>5</td>\n",
       "      <td>B6</td>\n",
       "      <td>N992JB</td>\n",
       "      <td>LAX</td>\n",
       "      <td>-7</td>\n",
       "      <td>371</td>\n",
       "      <td>2475</td>\n",
       "      <td>340</td>\n",
       "      <td>333</td>\n",
       "      <td>531</td>\n",
       "      <td>48</td>\n",
       "      <td>34</td>\n",
       "      <td>58</td>\n",
       "      <td>W</td>\n",
       "      <td>25</td>\n",
       "      <td>38</td>\n",
       "      <td>29.86</td>\n",
       "      <td>Fair / Windy</td>\n",
       "      <td>9</td>\n",
       "      <td>17</td>\n",
       "      <td>15</td>\n",
       "    </tr>\n",
       "    <tr>\n",
       "      <th>2</th>\n",
       "      <td>11</td>\n",
       "      <td>1</td>\n",
       "      <td>5</td>\n",
       "      <td>B6</td>\n",
       "      <td>N959JB</td>\n",
       "      <td>FLL</td>\n",
       "      <td>40</td>\n",
       "      <td>181</td>\n",
       "      <td>1069</td>\n",
       "      <td>301</td>\n",
       "      <td>341</td>\n",
       "      <td>482</td>\n",
       "      <td>48</td>\n",
       "      <td>34</td>\n",
       "      <td>58</td>\n",
       "      <td>W</td>\n",
       "      <td>25</td>\n",
       "      <td>38</td>\n",
       "      <td>29.86</td>\n",
       "      <td>Fair / Windy</td>\n",
       "      <td>9</td>\n",
       "      <td>17</td>\n",
       "      <td>22</td>\n",
       "    </tr>\n",
       "    <tr>\n",
       "      <th>3</th>\n",
       "      <td>11</td>\n",
       "      <td>1</td>\n",
       "      <td>5</td>\n",
       "      <td>B6</td>\n",
       "      <td>N999JQ</td>\n",
       "      <td>MCO</td>\n",
       "      <td>-2</td>\n",
       "      <td>168</td>\n",
       "      <td>944</td>\n",
       "      <td>345</td>\n",
       "      <td>343</td>\n",
       "      <td>513</td>\n",
       "      <td>48</td>\n",
       "      <td>34</td>\n",
       "      <td>58</td>\n",
       "      <td>W</td>\n",
       "      <td>25</td>\n",
       "      <td>38</td>\n",
       "      <td>29.86</td>\n",
       "      <td>Fair / Windy</td>\n",
       "      <td>9</td>\n",
       "      <td>17</td>\n",
       "      <td>12</td>\n",
       "    </tr>\n",
       "    <tr>\n",
       "      <th>4</th>\n",
       "      <td>11</td>\n",
       "      <td>1</td>\n",
       "      <td>5</td>\n",
       "      <td>DL</td>\n",
       "      <td>N880DN</td>\n",
       "      <td>ATL</td>\n",
       "      <td>-4</td>\n",
       "      <td>139</td>\n",
       "      <td>760</td>\n",
       "      <td>360</td>\n",
       "      <td>356</td>\n",
       "      <td>499</td>\n",
       "      <td>46</td>\n",
       "      <td>32</td>\n",
       "      <td>58</td>\n",
       "      <td>W</td>\n",
       "      <td>24</td>\n",
       "      <td>35</td>\n",
       "      <td>29.91</td>\n",
       "      <td>Fair / Windy</td>\n",
       "      <td>9</td>\n",
       "      <td>17</td>\n",
       "      <td>13</td>\n",
       "    </tr>\n",
       "  </tbody>\n",
       "</table>\n",
       "</div>"
      ],
      "text/plain": [
       "   MONTH  DAY_OF_MONTH  DAY_OF_WEEK OP_UNIQUE_CARRIER TAIL_NUM DEST  \\\n",
       "0     11             1            5                B6   N828JB  CHS   \n",
       "1     11             1            5                B6   N992JB  LAX   \n",
       "2     11             1            5                B6   N959JB  FLL   \n",
       "3     11             1            5                B6   N999JQ  MCO   \n",
       "4     11             1            5                DL   N880DN  ATL   \n",
       "\n",
       "   DEP_DELAY  CRS_ELAPSED_TIME  DISTANCE  CRS_DEP_M  DEP_TIME_M  CRS_ARR_M  \\\n",
       "0         -1               124       636        324         323        448   \n",
       "1         -7               371      2475        340         333        531   \n",
       "2         40               181      1069        301         341        482   \n",
       "3         -2               168       944        345         343        513   \n",
       "4         -4               139       760        360         356        499   \n",
       "\n",
       "   Temperature Dew Point  Humidity Wind  Wind Speed  Wind Gust  Pressure  \\\n",
       "0           48        34        58    W          25         38     29.86   \n",
       "1           48        34        58    W          25         38     29.86   \n",
       "2           48        34        58    W          25         38     29.86   \n",
       "3           48        34        58    W          25         38     29.86   \n",
       "4           46        32        58    W          24         35     29.91   \n",
       "\n",
       "      Condition  sch_dep  sch_arr  TAXI_OUT  \n",
       "0  Fair / Windy        9       17        14  \n",
       "1  Fair / Windy        9       17        15  \n",
       "2  Fair / Windy        9       17        22  \n",
       "3  Fair / Windy        9       17        12  \n",
       "4  Fair / Windy        9       17        13  "
      ]
     },
     "execution_count": 47,
     "metadata": {},
     "output_type": "execute_result"
    }
   ],
   "source": [
    "df.head()"
   ]
  },
  {
   "cell_type": "code",
   "execution_count": 49,
   "metadata": {},
   "outputs": [
    {
     "data": {
      "text/plain": [
       "<AxesSubplot:xlabel='Wind Gust', ylabel='TAXI_OUT'>"
      ]
     },
     "execution_count": 49,
     "metadata": {},
     "output_type": "execute_result"
    },
    {
     "data": {
      "image/png": "[encoded data removed]",
      "text/plain": [
       "<Figure size 432x288 with 1 Axes>"
      ]
     },
     "metadata": {
      "needs_background": "light"
     },
     "output_type": "display_data"
    }
   ],
   "source": [
    "df_num.plot(kind='scatter', x='Wind Gust', y='TAXI_OUT')"
   ]
  },
  {
   "cell_type": "code",
   "execution_count": 50,
   "metadata": {},
   "outputs": [],
   "source": [
    "y = df['TAXI_OUT']"
   ]
  },
  {
   "cell_type": "code",
   "execution_count": 52,
   "metadata": {},
   "outputs": [
    {
     "data": {
      "image/png": "[encoded data removed]",
      "text/plain": [
       "<Figure size 432x288 with 1 Axes>"
      ]
     },
     "metadata": {
      "needs_background": "light"
     },
     "output_type": "display_data"
    }
   ],
   "source": [
    "y.hist();"
   ]
  },
  {
   "cell_type": "code",
   "execution_count": 54,
   "metadata": {},
   "outputs": [
    {
     "data": {
      "text/plain": [
       "array([14, 15, 22, 12, 13, 21, 26, 11, 25, 29, 30, 24, 17, 16, 18, 34, 23,\n",
       "       19, 20, 10, 36, 28, 27, 35,  9, 37, 39,  7, 31, 38, 40, 32, 41, 33,\n",
       "        5,  8,  6])"
      ]
     },
     "execution_count": 54,
     "metadata": {},
     "output_type": "execute_result"
    }
   ],
   "source": [
    "y.unique()"
   ]
  },
  {
   "cell_type": "markdown",
   "metadata": {},
   "source": [
    "# Machine Learning"
   ]
  },
  {
   "cell_type": "markdown",
   "metadata": {},
   "source": [
    "## Preprocessing"
   ]
  },
  {
   "cell_type": "code",
   "execution_count": 57,
   "metadata": {},
   "outputs": [],
   "source": [
    "X = df_num.drop('TAXI_OUT', axis=1)\n",
    "y = df['TAXI_OUT']"
   ]
  },
  {
   "cell_type": "markdown",
   "metadata": {},
   "source": [
    "### Standard Scaler"
   ]
  },
  {
   "cell_type": "code",
   "execution_count": 65,
   "metadata": {},
   "outputs": [
    {
     "data": {
      "text/plain": [
       "(28818, 16)"
      ]
     },
     "execution_count": 65,
     "metadata": {},
     "output_type": "execute_result"
    }
   ],
   "source": [
    "from sklearn.preprocessing import StandardScaler\n",
    "\n",
    "scaler = StandardScaler()\n",
    "X_scale = scaler.fit_transform(X)\n",
    "y_scale = scaler.fit_transform(np.array(y).reshape(-1,1))\n",
    "X_scale.shape"
   ]
  },
  {
   "cell_type": "code",
   "execution_count": null,
   "metadata": {},
   "outputs": [],
   "source": []
  },
  {
   "cell_type": "markdown",
   "metadata": {},
   "source": [
    "## Model"
   ]
  },
  {
   "cell_type": "code",
   "execution_count": 96,
   "metadata": {},
   "outputs": [],
   "source": [
    "from sklearn.model_selection import train_test_split\n",
    "from sklearn.tree import DecisionTreeRegressor\n",
    "\n",
    "\n",
    "def model_run(X, y):\n",
    "    \n",
    "    X_train, X_test, y_train, y_test = train_test_split(X, y, test_size=0.1)\n",
    "    \n",
    "    estimator = DecisionTreeRegressor()\n",
    "    estimator.fit(X_train, y_train)\n",
    "    \n",
    "    y_pred = estimator.predict(X_test)\n",
    "    scr = estimator.score(X_test, y_test)\n",
    "    print(estimator.__class__.__name__)\n",
    "    print('score = {:.1%}'.format(scr))\n",
    "    plt.scatter(y_test, y_pred)\n",
    "    plt.show();\n",
    "    print(' ')"
   ]
  },
  {
   "cell_type": "code",
   "execution_count": 97,
   "metadata": {},
   "outputs": [
    {
     "name": "stdout",
     "output_type": "stream",
     "text": [
      "DecisionTreeRegressor\n",
      "score = 24.5%\n"
     ]
    },
    {
     "data": {
      "image/png": "[encoded data removed]",
      "text/plain": [
       "<Figure size 432x288 with 1 Axes>"
      ]
     },
     "metadata": {
      "needs_background": "light"
     },
     "output_type": "display_data"
    },
    {
     "name": "stdout",
     "output_type": "stream",
     "text": [
      " \n"
     ]
    }
   ],
   "source": [
    "model_run(X_scale, y_scale)"
   ]
  },
  {
   "cell_type": "code",
   "execution_count": 98,
   "metadata": {
    "scrolled": true
   },
   "outputs": [
    {
     "data": {
      "text/html": [
       "<div>\n",
       "<style scoped>\n",
       "    .dataframe tbody tr th:only-of-type {\n",
       "        vertical-align: middle;\n",
       "    }\n",
       "\n",
       "    .dataframe tbody tr th {\n",
       "        vertical-align: top;\n",
       "    }\n",
       "\n",
       "    .dataframe thead th {\n",
       "        text-align: right;\n",
       "    }\n",
       "</style>\n",
       "<table border=\"1\" class=\"dataframe\">\n",
       "  <thead>\n",
       "    <tr style=\"text-align: right;\">\n",
       "      <th></th>\n",
       "      <th>MONTH</th>\n",
       "      <th>DAY_OF_MONTH</th>\n",
       "      <th>DAY_OF_WEEK</th>\n",
       "      <th>DEP_DELAY</th>\n",
       "      <th>CRS_ELAPSED_TIME</th>\n",
       "      <th>DISTANCE</th>\n",
       "      <th>CRS_DEP_M</th>\n",
       "      <th>DEP_TIME_M</th>\n",
       "      <th>CRS_ARR_M</th>\n",
       "      <th>Temperature</th>\n",
       "      <th>Humidity</th>\n",
       "      <th>Wind Speed</th>\n",
       "      <th>Wind Gust</th>\n",
       "      <th>Pressure</th>\n",
       "      <th>sch_dep</th>\n",
       "      <th>sch_arr</th>\n",
       "    </tr>\n",
       "  </thead>\n",
       "  <tbody>\n",
       "    <tr>\n",
       "      <th>0</th>\n",
       "      <td>11</td>\n",
       "      <td>1</td>\n",
       "      <td>5</td>\n",
       "      <td>-1</td>\n",
       "      <td>124</td>\n",
       "      <td>636</td>\n",
       "      <td>324</td>\n",
       "      <td>323</td>\n",
       "      <td>448</td>\n",
       "      <td>48</td>\n",
       "      <td>58</td>\n",
       "      <td>25</td>\n",
       "      <td>38</td>\n",
       "      <td>29.86</td>\n",
       "      <td>9</td>\n",
       "      <td>17</td>\n",
       "    </tr>\n",
       "    <tr>\n",
       "      <th>1</th>\n",
       "      <td>11</td>\n",
       "      <td>1</td>\n",
       "      <td>5</td>\n",
       "      <td>-7</td>\n",
       "      <td>371</td>\n",
       "      <td>2475</td>\n",
       "      <td>340</td>\n",
       "      <td>333</td>\n",
       "      <td>531</td>\n",
       "      <td>48</td>\n",
       "      <td>58</td>\n",
       "      <td>25</td>\n",
       "      <td>38</td>\n",
       "      <td>29.86</td>\n",
       "      <td>9</td>\n",
       "      <td>17</td>\n",
       "    </tr>\n",
       "    <tr>\n",
       "      <th>2</th>\n",
       "      <td>11</td>\n",
       "      <td>1</td>\n",
       "      <td>5</td>\n",
       "      <td>40</td>\n",
       "      <td>181</td>\n",
       "      <td>1069</td>\n",
       "      <td>301</td>\n",
       "      <td>341</td>\n",
       "      <td>482</td>\n",
       "      <td>48</td>\n",
       "      <td>58</td>\n",
       "      <td>25</td>\n",
       "      <td>38</td>\n",
       "      <td>29.86</td>\n",
       "      <td>9</td>\n",
       "      <td>17</td>\n",
       "    </tr>\n",
       "    <tr>\n",
       "      <th>3</th>\n",
       "      <td>11</td>\n",
       "      <td>1</td>\n",
       "      <td>5</td>\n",
       "      <td>-2</td>\n",
       "      <td>168</td>\n",
       "      <td>944</td>\n",
       "      <td>345</td>\n",
       "      <td>343</td>\n",
       "      <td>513</td>\n",
       "      <td>48</td>\n",
       "      <td>58</td>\n",
       "      <td>25</td>\n",
       "      <td>38</td>\n",
       "      <td>29.86</td>\n",
       "      <td>9</td>\n",
       "      <td>17</td>\n",
       "    </tr>\n",
       "    <tr>\n",
       "      <th>4</th>\n",
       "      <td>11</td>\n",
       "      <td>1</td>\n",
       "      <td>5</td>\n",
       "      <td>-4</td>\n",
       "      <td>139</td>\n",
       "      <td>760</td>\n",
       "      <td>360</td>\n",
       "      <td>356</td>\n",
       "      <td>499</td>\n",
       "      <td>46</td>\n",
       "      <td>58</td>\n",
       "      <td>24</td>\n",
       "      <td>35</td>\n",
       "      <td>29.91</td>\n",
       "      <td>9</td>\n",
       "      <td>17</td>\n",
       "    </tr>\n",
       "  </tbody>\n",
       "</table>\n",
       "</div>"
      ],
      "text/plain": [
       "   MONTH  DAY_OF_MONTH  DAY_OF_WEEK  DEP_DELAY  CRS_ELAPSED_TIME  DISTANCE  \\\n",
       "0     11             1            5         -1               124       636   \n",
       "1     11             1            5         -7               371      2475   \n",
       "2     11             1            5         40               181      1069   \n",
       "3     11             1            5         -2               168       944   \n",
       "4     11             1            5         -4               139       760   \n",
       "\n",
       "   CRS_DEP_M  DEP_TIME_M  CRS_ARR_M  Temperature  Humidity  Wind Speed  \\\n",
       "0        324         323        448           48        58          25   \n",
       "1        340         333        531           48        58          25   \n",
       "2        301         341        482           48        58          25   \n",
       "3        345         343        513           48        58          25   \n",
       "4        360         356        499           46        58          24   \n",
       "\n",
       "   Wind Gust  Pressure  sch_dep  sch_arr  \n",
       "0         38     29.86        9       17  \n",
       "1         38     29.86        9       17  \n",
       "2         38     29.86        9       17  \n",
       "3         38     29.86        9       17  \n",
       "4         35     29.91        9       17  "
      ]
     },
     "execution_count": 98,
     "metadata": {},
     "output_type": "execute_result"
    }
   ],
   "source": [
    "X.head()"
   ]
  },
  {
   "cell_type": "code",
   "execution_count": 105,
   "metadata": {},
   "outputs": [
    {
     "name": "stdout",
     "output_type": "stream",
     "text": [
      "DecisionTreeRegressor\n",
      "score = 27.0%\n"
     ]
    },
    {
     "data": {
      "image/png": "[encoded data removed]",
      "text/plain": [
       "<Figure size 432x288 with 1 Axes>"
      ]
     },
     "metadata": {
      "needs_background": "light"
     },
     "output_type": "display_data"
    },
    {
     "name": "stdout",
     "output_type": "stream",
     "text": [
      " \n"
     ]
    }
   ],
   "source": [
    "cols = ['Temperature', 'Humidity', 'Wind Speed', 'DAY_OF_MONTH', 'DAY_OF_WEEK', 'Wind Gust']\n",
    "scaler = StandardScaler()\n",
    "X_scale = scaler.fit_transform(X[cols])\n",
    "X_scale.shape\n",
    "\n",
    "model_run(X_scale, y_scale)"
   ]
  },
  {
   "cell_type": "markdown",
   "metadata": {},
   "source": [
    "### Feature Selection RFE "
   ]
  },
  {
   "cell_type": "code",
   "execution_count": 121,
   "metadata": {},
   "outputs": [
    {
     "data": {
      "text/plain": [
       "array([False, False, False,  True,  True, False, False,  True,  True,\n",
       "        True,  True, False, False,  True,  True, False])"
      ]
     },
     "execution_count": 121,
     "metadata": {},
     "output_type": "execute_result"
    }
   ],
   "source": [
    "from sklearn.linear_model import LinearRegression\n",
    "from sklearn.tree import DecisionTreeRegressor\n",
    "from sklearn.feature_selection import RFE, RFECV\n",
    "\n",
    "scaler = StandardScaler()\n",
    "X_scale = scaler.fit_transform(X)\n",
    "\n",
    "selector = RFECV(DecisionTreeRegressor(), step=2, min_features_to_select=3, cv=3)\n",
    "selector.fit_transform(X_scale,y_scale)\n",
    "#np.array(X.columns)[selector.get_support()]\n",
    "selector.get_support()"
   ]
  },
  {
   "cell_type": "code",
   "execution_count": 122,
   "metadata": {},
   "outputs": [
    {
     "data": {
      "text/plain": [
       "array(['DEP_DELAY', 'CRS_ELAPSED_TIME', 'DEP_TIME_M', 'CRS_ARR_M',\n",
       "       'Temperature', 'Humidity', 'Pressure', 'sch_dep'], dtype=object)"
      ]
     },
     "execution_count": 122,
     "metadata": {},
     "output_type": "execute_result"
    }
   ],
   "source": [
    "np.array(X.columns)[selector.get_support()]"
   ]
  },
  {
   "cell_type": "code",
   "execution_count": 131,
   "metadata": {},
   "outputs": [
    {
     "name": "stdout",
     "output_type": "stream",
     "text": [
      "DecisionTreeRegressor\n",
      "score = -52.9%\n"
     ]
    },
    {
     "data": {
      "image/png": "[encoded data removed]",
      "text/plain": [
       "<Figure size 432x288 with 1 Axes>"
      ]
     },
     "metadata": {
      "needs_background": "light"
     },
     "output_type": "display_data"
    },
    {
     "name": "stdout",
     "output_type": "stream",
     "text": [
      " \n"
     ]
    }
   ],
   "source": [
    "cols = ['CRS_ARR_M', 'Temperature']\n",
    "scaler = StandardScaler()\n",
    "X_scale = scaler.fit_transform(X[cols])\n",
    "X_scale.shape\n",
    "\n",
    "model_run(X_scale, y_scale)"
   ]
  },
  {
   "cell_type": "code",
   "execution_count": 127,
   "metadata": {},
   "outputs": [
    {
     "data": {
      "text/plain": [
       "TAXI_OUT            1.000000\n",
       "sch_dep             0.190374\n",
       "Wind Gust           0.095764\n",
       "CRS_ARR_M           0.071524\n",
       "CRS_ELAPSED_TIME    0.071007\n",
       "sch_arr             0.064193\n",
       "Wind Speed          0.062942\n",
       "DISTANCE            0.060006\n",
       "DEP_TIME_M          0.057584\n",
       "CRS_DEP_M           0.044562\n",
       "DEP_DELAY           0.034759\n",
       "DAY_OF_WEEK         0.028397\n",
       "MONTH               0.018347\n",
       "DAY_OF_MONTH       -0.024065\n",
       "Humidity           -0.026811\n",
       "Pressure           -0.059530\n",
       "Temperature        -0.067171\n",
       "Name: TAXI_OUT, dtype: float64"
      ]
     },
     "execution_count": 127,
     "metadata": {},
     "output_type": "execute_result"
    }
   ],
   "source": [
    "corr_matrix = df_num.corr()\n",
    "corr_matrix['TAXI_OUT'].sort_values(ascending=False)"
   ]
  },
  {
   "cell_type": "code",
   "execution_count": 148,
   "metadata": {},
   "outputs": [
    {
     "name": "stdout",
     "output_type": "stream",
     "text": [
      "DecisionTreeRegressor\n",
      "score = 24.8%\n"
     ]
    },
    {
     "data": {
      "image/png": "[encoded data removed]",
      "text/plain": [
       "<Figure size 432x288 with 1 Axes>"
      ]
     },
     "metadata": {
      "needs_background": "light"
     },
     "output_type": "display_data"
    },
    {
     "name": "stdout",
     "output_type": "stream",
     "text": [
      " \n"
     ]
    }
   ],
   "source": [
    "cols = ['Temperature', 'Humidity', 'Wind Speed', 'DAY_OF_WEEK', 'Wind Gust', 'Pressure', 'DAY_OF_MONTH']\n",
    "scaler = StandardScaler()\n",
    "X_scale = scaler.fit_transform(X[cols])\n",
    "X_scale.shape\n",
    "\n",
    "model_run(X_scale, y_scale)"
   ]
  },
  {
   "cell_type": "code",
   "execution_count": 149,
   "metadata": {},
   "outputs": [
    {
     "name": "stdout",
     "output_type": "stream",
     "text": [
      "DecisionTreeRegressor\n",
      "score = 28.6%\n"
     ]
    },
    {
     "data": {
      "image/png": "[encoded data removed]",
      "text/plain": [
       "<Figure size 432x288 with 1 Axes>"
      ]
     },
     "metadata": {
      "needs_background": "light"
     },
     "output_type": "display_data"
    },
    {
     "name": "stdout",
     "output_type": "stream",
     "text": [
      " \n"
     ]
    }
   ],
   "source": [
    "cols = ['Temperature', 'Humidity', 'Wind Speed', 'Wind Gust', 'Pressure']\n",
    "scaler = StandardScaler()\n",
    "X_scale = scaler.fit_transform(X[cols])\n",
    "X_scale.shape\n",
    "\n",
    "model_run(X_scale, y_scale)"
   ]
  },
  {
   "cell_type": "code",
   "execution_count": 157,
   "metadata": {},
   "outputs": [],
   "source": [
    "from sklearn.model_selection import train_test_split\n",
    "from sklearn.tree import DecisionTreeRegressor\n",
    "from sklearn.model_selection import cross_val_score\n",
    "\n",
    "\n",
    "def model_run_cv(X, y):\n",
    "    \n",
    "    X_train, X_test, y_train, y_test = train_test_split(X, y, test_size=0.1)\n",
    "    \n",
    "    estimator = DecisionTreeRegressor()    \n",
    "    scr = cross_val_score(estimator, X_train, y_train, cv=5).mean()\n",
    "    \n",
    "    print('score = {:.0%}'.format(scr))"
   ]
  },
  {
   "cell_type": "code",
   "execution_count": 167,
   "metadata": {
    "scrolled": true
   },
   "outputs": [
    {
     "name": "stdout",
     "output_type": "stream",
     "text": [
      "score = 23%\n"
     ]
    }
   ],
   "source": [
    "cols = ['Temperature', 'Humidity', 'Wind Speed', 'Wind Gust', 'Pressure']\n",
    "scaler = StandardScaler()\n",
    "X_scale = scaler.fit_transform(X[cols])\n",
    "X_scale.shape\n",
    "\n",
    "model_run_cv(X_scale, y_scale)"
   ]
  },
  {
   "cell_type": "code",
   "execution_count": null,
   "metadata": {},
   "outputs": [],
   "source": [
    "cols = ['Temperature', 'Humidity', 'Wind Speed', 'Wind Gust', 'Pressure', '']\n",
    "scaler = StandardScaler()\n",
    "X_scale = scaler.fit_transform(X[cols])\n",
    "X_scale.shape\n",
    "\n",
    "model_run_cv(X_scale, y_scale)"
   ]
  },
  {
   "cell_type": "code",
   "execution_count": null,
   "metadata": {},
   "outputs": [],
   "source": []
  }
 ],
 "metadata": {
  "kernelspec": {
   "display_name": "Python 3",
   "language": "python",
   "name": "python3"
  },
  "language_info": {
   "codemirror_mode": {
    "name": "ipython",
    "version": 3
   },
   "file_extension": ".py",
   "mimetype": "text/x-python",
   "name": "python",
   "nbconvert_exporter": "python",
   "pygments_lexer": "ipython3",
   "version": "3.8.5"
  }
 },
 "nbformat": 4,
 "nbformat_minor": 4
}
